{
 "cells": [
  {
   "cell_type": "code",
   "execution_count": 208,
   "metadata": {},
   "outputs": [],
   "source": [
    "import os\n",
    "import re\n",
    "from dataclasses import dataclass\n",
    "from typing import List\n",
    "import shutil\n",
    "\n",
    "import torch.nn as nn\n",
    "import torch\n",
    "import pandas as pd\n",
    "import torchvision\n",
    "from PIL import Image\n",
    "import torchvision.transforms as transforms\n",
    "import numpy as np"
   ]
  },
  {
   "cell_type": "markdown",
   "metadata": {},
   "source": [
    "## Make student directories"
   ]
  },
  {
   "cell_type": "code",
   "execution_count": 214,
   "metadata": {},
   "outputs": [],
   "source": [
    "exclude = [\n",
    "    \"arceatom\",\"ballspencer\",\"bhargavaaman\",\"carnaffanadam\",\"castillejosyviel\",\n",
    "    \"chengbenjamin\",\"chenjacky\",\"chiamkatarina\",\"chudavid\",\"cyphuskieran\",\n",
    "]\n",
    "\n",
    "\n",
    "if True:\n",
    "\n",
    "    student_names = pd.value_counts([x.split('_')[0] for x in os.listdir('./submissions/')]).keys()\n",
    "    \n",
    "    for student in student_names:\n",
    "        if student in exclude:\n",
    "            continue\n",
    "\n",
    "        if not os.path.isdir('./student_submissions/{}'.format(student)):\n",
    "            os.makedirs('./student_submissions/{}'.format(student))\n",
    "\n",
    "        shutil.copyfile(\n",
    "            './ECE324_A4P2_rubric.xlsx', \n",
    "            './student_submissions/{}/ECE324_A4P2_rubric.xlsx'.format(student)\n",
    "        )\n",
    "\n",
    "        student_files = [x for x in os.listdir('./submissions/') if x.startswith(student)]\n",
    "\n",
    "        for student_file in student_files:\n",
    "            shutil.copyfile('./submissions/{}'.format(student_file), './student_submissions/{}/{}'.format(\n",
    "                student,\n",
    "                student_file\n",
    "            ))\n"
   ]
  },
  {
   "cell_type": "markdown",
   "metadata": {},
   "source": [
    "### Construct data class"
   ]
  },
  {
   "cell_type": "code",
   "execution_count": 117,
   "metadata": {},
   "outputs": [
    {
     "name": "stdout",
     "output_type": "stream",
     "text": [
      "Student model sizes: \n",
      " small    52\n",
      "big      51\n",
      "dtype: int64\n",
      "\n",
      "\n",
      "Number of models per strudent: \n",
      " 2    51\n",
      "1     1\n",
      "dtype: int64\n"
     ]
    }
   ],
   "source": [
    "@dataclass\n",
    "class StudentModel:\n",
    "    model_name: str\n",
    "    student_name: str\n",
    "    model_size: str\n",
    "    model_perf: float\n",
    "        \n",
    "    \n",
    "student_models = []\n",
    "\n",
    "for model_file in model_files:\n",
    "    student_name = re.split('_|\\.', model_file)[0]\n",
    "    model_size = re.split('_|\\.', model_file)[-2].lower()\n",
    "    \n",
    "    student_models.append(\n",
    "        StudentModel(\n",
    "            model_file,\n",
    "            student_name,\n",
    "            'small' if 'small' in model_size else 'big',\n",
    "            -1)\n",
    "    )\n",
    "\n",
    "print(\n",
    "    \"Student model sizes: \\n\",\n",
    "    pd.value_counts([x.model_size for x in student_models])\n",
    ")\n",
    "print('\\n')\n",
    "print(\n",
    "    \"Number of models per strudent: \\n\",\n",
    "    pd.value_counts(pd.value_counts([x.student_name for x in student_models]).values)\n",
    ")"
   ]
  },
  {
   "cell_type": "code",
   "execution_count": 126,
   "metadata": {},
   "outputs": [
    {
     "data": {
      "text/plain": [
       "<class 'collections.OrderedDict'>    103\n",
       "dtype: int64"
      ]
     },
     "execution_count": 126,
     "metadata": {},
     "output_type": "execute_result"
    }
   ],
   "source": [
    "model_types = []\n",
    "\n",
    "for student_model in student_models:\n",
    "    model = torch.load('./submissions/{}'.format(student_model.model_name), map_location=torch.device('cpu'))\n",
    "    model_types.append(type(model))\n",
    "    \n",
    "pd.value_counts(model_types)"
   ]
  },
  {
   "cell_type": "markdown",
   "metadata": {},
   "source": [
    "## Construct Test dataset"
   ]
  },
  {
   "cell_type": "code",
   "execution_count": 178,
   "metadata": {},
   "outputs": [],
   "source": [
    "transform = transforms.Compose(\n",
    "    [transforms.ToTensor()]\n",
    ")\n",
    "\n",
    "train_dataset = torchvision.datasets.ImageFolder('../ece324_assignment_4_1/training_v2', transform=transform)\n",
    "train_data = torch.utils.data.DataLoader(train_dataset)\n",
    "\n",
    "training_stds = []\n",
    "training_means = []\n",
    "\n",
    "for image, label in train_data:\n",
    "    training_means.append(image.mean(axis=(0, 2, 3)).numpy())\n",
    "    training_stds.append(image.std(axis=(0, 2, 3)).numpy())\n",
    "    \n",
    "training_means = np.array(training_means).mean(axis=0)\n",
    "training_stds = np.array(training_stds).mean(axis=0)"
   ]
  },
  {
   "cell_type": "code",
   "execution_count": 184,
   "metadata": {},
   "outputs": [
    {
     "name": "stdout",
     "output_type": "stream",
     "text": [
      "tensor([0, 0, 0, 0, 0, 0, 0, 0, 0, 0, 0, 0, 0, 0, 0, 0, 0, 0, 0, 0, 0, 0, 0, 0,\n",
      "        0, 0, 0, 0, 0, 0, 0, 0, 0, 0, 0, 0, 0, 0, 0, 0, 0, 0, 0, 0, 0, 0, 0, 0,\n",
      "        1, 1, 1, 1, 1, 1, 1, 1, 1, 1, 1, 1, 1, 1, 1, 1, 1, 1, 1, 1, 1, 1, 1, 1,\n",
      "        1, 1, 1, 1, 1, 1, 1, 1, 1, 1, 1, 1, 1, 1, 1, 1, 1, 1, 1, 1, 1, 1, 1, 1,\n",
      "        2, 2, 2, 2, 2, 2, 2, 2, 2, 2, 2, 2, 2, 2, 2, 2, 2, 2, 2, 2, 2, 2, 2, 2,\n",
      "        2, 2, 2, 2, 2, 2, 2, 2, 2, 2, 2, 2, 2, 2, 2, 2, 2, 2, 3, 3, 3, 3, 3, 3,\n",
      "        3, 3, 3, 3, 3, 3, 3, 3, 3, 3, 3, 3, 3, 3, 3, 3, 3, 3, 3, 3, 3, 3, 3, 3,\n",
      "        3, 3, 3, 3, 3, 3, 3, 3, 3, 3, 3, 3, 3, 3, 3, 3, 3, 3, 4, 4, 4, 4, 4, 4,\n",
      "        4, 4, 4, 4, 4, 4, 4, 4, 4, 4, 4, 4, 4, 4, 4, 4, 4, 4, 4, 4, 4, 4, 4, 4,\n",
      "        4, 4, 4, 4, 4, 4, 4, 4, 4, 4, 4, 4, 4, 4, 4, 4, 4, 4, 5, 5, 5, 5, 5, 5,\n",
      "        5, 5, 5, 5, 5, 5, 5, 5, 5, 5, 5, 5, 5, 5, 5, 5, 5, 5, 5, 5, 5, 5, 5, 5,\n",
      "        5, 5, 5, 5, 5, 5, 5, 5, 5, 5, 5, 5, 5, 5, 5, 5, 5, 5, 6, 6, 6, 6, 6, 6,\n",
      "        6, 6, 6, 6, 6, 6, 6, 6, 6, 6, 6, 6, 6, 6, 6, 6, 6, 6, 6, 6, 6, 6, 6, 6,\n",
      "        6, 6, 6, 6, 6, 6, 6, 6, 6, 6, 6, 6, 6, 6, 6, 7, 7, 7, 7, 7, 7, 7, 7, 7,\n",
      "        7, 7, 7, 7, 7, 7, 7, 7, 7, 7, 7, 7, 7, 7, 7, 7, 7, 7, 7, 7, 7, 7, 7, 7,\n",
      "        7, 7, 7, 7, 7, 7, 7, 7, 7, 7, 7, 7, 8, 8, 8, 8, 8, 8, 8, 8, 8, 8, 8, 8,\n",
      "        8, 8, 8, 8, 8, 8, 8, 8, 8, 8, 8, 8, 8, 8, 8, 8, 8, 8, 8, 8, 8, 8, 8, 8,\n",
      "        8, 8, 8, 8, 8, 8, 8, 8, 8, 8, 8, 8, 9, 9, 9, 9, 9, 9, 9, 9, 9, 9, 9, 9,\n",
      "        9, 9, 9, 9, 9, 9, 9, 9, 9, 9, 9, 9, 9, 9, 9, 9, 9, 9])\n",
      "torch.Size([450, 3, 56, 56])\n"
     ]
    }
   ],
   "source": [
    "transform = transforms.Compose(\n",
    "    [\n",
    "        transforms.ToTensor(), \n",
    "        transforms.Normalize(training_means, training_stds)\n",
    "    ]\n",
    ")\n",
    "\n",
    "\n",
    "test_dataset = torchvision.datasets.ImageFolder(\n",
    "    '../ece324_assignment_4_1/data/test/',\n",
    "    transform=transform\n",
    ")\n",
    "test_data = torch.utils.data.DataLoader(test_dataset, batch_size=10000)\n",
    "\n",
    "for image, label in test_data:\n",
    "    print(label)\n",
    "    print(image.shape)"
   ]
  },
  {
   "cell_type": "code",
   "execution_count": 211,
   "metadata": {},
   "outputs": [],
   "source": [
    "#create CNN\n",
    "\n",
    "class Net(nn.Module):\n",
    "  def __init__(self):\n",
    "    super(Net,self).__init__()\n",
    "    self.conv1 = nn.Conv2d(3,kernel_num,kernel_size) #conv layer1 (#input channels, #kernels, size, (stride=default=1)\n",
    "    self.bn1 = nn.BatchNorm2d(kernel_num)\n",
    "    self.pool1 =  nn.MaxPool2d(2,2)\n",
    "    self.out_dim = 56\n",
    "    self.out_dim = int((self.out_dim - kernel_size + 1)/2)\n",
    "\n",
    "    if (conv_num == 2):\n",
    "      self.conv2 = nn.Conv2d(kernel_num,kernel_num,kernel_size) \n",
    "      self.bn2 = nn.BatchNorm2d(kernel_num)        \n",
    "      self.pool2 = nn.MaxPool2d(2,2)\n",
    "      self.out_dim = int((self.out_dim - kernel_size + 1)/2)\n",
    "    if (conv_num == 4):\n",
    "      self.conv2 = nn.Conv2d(kernel_num,kernel_num,kernel_size)\n",
    "      self.bn2 = nn.BatchNorm2d(kernel_num)  \n",
    "      self.pool2 = nn.MaxPool2d(2,2,padding=1)\n",
    "      self.conv3 = nn.Conv2d(kernel_num,kernel_num,kernel_size)\n",
    "      self.bn3 = nn.BatchNorm2d(kernel_num)\n",
    "      self.pool3 = nn.MaxPool2d(2,2)\n",
    "      self.conv4 = nn.Conv2d(kernel_num,kernel_num,kernel_size)\n",
    "      self.bn4 = nn.BatchNorm2d(kernel_num)\n",
    "      self.pool4 = nn.MaxPool2d(2,2)\n",
    "      self.out_dim = 56\n",
    "      for i in range(conv_num):\n",
    "          self.out_dim = int((self.out_dim - kernel_size + 1)/2) \n",
    "\n",
    "    self.fc1 = nn.Linear(kernel_num*self.out_dim*self.out_dim,num_nueron1)  \n",
    "    self.bnl_1 = nn.BatchNorm1d(num_nueron1)    #batch normal 1D \n",
    "    self.fc2 = nn.Linear(num_nueron1,10) \n",
    "\n",
    "  # def forward(self,x):   #no bn\n",
    "  #   x = self.pool1(F.relu(self.conv1(x))) #run x through conv1->b->relu->pool\n",
    "  #   x = self.pool2(F.relu(self.conv2(x))) # run x through conv2->->relu->pool\n",
    "  #   x = self.pool3(F.relu(self.conv3(x))) # run x through conv2->bn3->relu->pool\n",
    "  #   x = self.pool4(F.relu(self.conv4(x))) # run x through conv2->bn4->relu->pool\n",
    "  #   x = x.view(-1, kernel_num*self.out_dim*self.out_dim) #reshapes tensor in to 1D\n",
    "  #   x = F.relu(self.fc1(x))\n",
    "  #   x = self.fc2(x)\n",
    "  #   return x  \n",
    "\n",
    "  def forward(self,x):\n",
    "    x = self.pool1(F.relu(self.bn1(self.conv1(x)))) #run x through conv1->bn1->relu->pool\n",
    "    x = self.pool2(F.relu(self.bn2(self.conv2(x)))) # run x through conv2->bn2->relu->pool\n",
    "    x = self.pool3(F.relu(self.bn3(self.conv3(x)))) # run x through conv2->bn3->relu->pool\n",
    "    x = self.pool4(F.relu(self.bn4(self.conv4(x)))) # run x through conv2->bn4->relu->pool\n",
    "    x = x.view(-1, kernel_num*self.out_dim*self.out_dim) #reshapes tensor in to 1D\n",
    "    x = F.relu(self.bnl_1(self.fc1(x)))\n",
    "    x = self.fc2(x)\n",
    "    return x"
   ]
  },
  {
   "cell_type": "code",
   "execution_count": 212,
   "metadata": {},
   "outputs": [
    {
     "data": {
      "text/plain": [
       "Net(\n",
       "  (conv1): Conv2d(3, 10, kernel_size=(3, 3), stride=(1, 1))\n",
       "  (bn1): BatchNorm2d(10, eps=1e-05, momentum=0.1, affine=True, track_running_stats=True)\n",
       "  (pool1): MaxPool2d(kernel_size=2, stride=2, padding=0, dilation=1, ceil_mode=False)\n",
       "  (conv2): Conv2d(10, 10, kernel_size=(3, 3), stride=(1, 1))\n",
       "  (bn2): BatchNorm2d(10, eps=1e-05, momentum=0.1, affine=True, track_running_stats=True)\n",
       "  (pool2): MaxPool2d(kernel_size=2, stride=2, padding=1, dilation=1, ceil_mode=False)\n",
       "  (conv3): Conv2d(10, 10, kernel_size=(3, 3), stride=(1, 1))\n",
       "  (bn3): BatchNorm2d(10, eps=1e-05, momentum=0.1, affine=True, track_running_stats=True)\n",
       "  (pool3): MaxPool2d(kernel_size=2, stride=2, padding=0, dilation=1, ceil_mode=False)\n",
       "  (conv4): Conv2d(10, 10, kernel_size=(3, 3), stride=(1, 1))\n",
       "  (bn4): BatchNorm2d(10, eps=1e-05, momentum=0.1, affine=True, track_running_stats=True)\n",
       "  (pool4): MaxPool2d(kernel_size=2, stride=2, padding=0, dilation=1, ceil_mode=False)\n",
       "  (fc1): Linear(in_features=10, out_features=8, bias=True)\n",
       "  (bnl_1): BatchNorm1d(8, eps=1e-05, momentum=0.1, affine=True, track_running_stats=True)\n",
       "  (fc2): Linear(in_features=8, out_features=10, bias=True)\n",
       ")"
      ]
     },
     "execution_count": 212,
     "metadata": {},
     "output_type": "execute_result"
    }
   ],
   "source": [
    "conv_num = 4\n",
    "kernel_num = 30\n",
    "num_nueron1 = 8\n",
    "kernel_size = 3\n",
    "#hyperparameters\n",
    "\n",
    "lr = .1\n",
    "batch_size = 32\n",
    "\n",
    "num_epoch = 5\n",
    "\n",
    "loss_type = 1\n",
    "\n",
    "seed = 1\n",
    "# N=3 #eval_every\n",
    "\n",
    "torch.manual_seed(seed)\n",
    "Net()"
   ]
  },
  {
   "cell_type": "code",
   "execution_count": null,
   "metadata": {},
   "outputs": [],
   "source": []
  }
 ],
 "metadata": {
  "kernelspec": {
   "display_name": "Python (pytorch_base)",
   "language": "python",
   "name": "pytorch_base"
  },
  "language_info": {
   "codemirror_mode": {
    "name": "ipython",
    "version": 3
   },
   "file_extension": ".py",
   "mimetype": "text/x-python",
   "name": "python",
   "nbconvert_exporter": "python",
   "pygments_lexer": "ipython3",
   "version": "3.7.7"
  }
 },
 "nbformat": 4,
 "nbformat_minor": 4
}
