{
 "cells": [
  {
   "cell_type": "code",
   "execution_count": 1,
   "metadata": {},
   "outputs": [],
   "source": [
    "import os\n",
    "import re\n",
    "from dataclasses import dataclass\n",
    "from typing import List\n",
    "import shutil\n",
    "import io, sys, types\n",
    "\n",
    "from IPython import get_ipython\n",
    "from nbformat import read\n",
    "from IPython.core.interactiveshell import InteractiveShell\n",
    "\n",
    "import torch.nn as nn\n",
    "import torch\n",
    "import torch.nn.functional as F\n",
    "\n",
    "import pandas as pd\n",
    "import torchvision\n",
    "from PIL import Image\n",
    "import torchvision.transforms as transforms\n",
    "import numpy as np"
   ]
  },
  {
   "cell_type": "markdown",
   "metadata": {},
   "source": [
    "## Make student directories"
   ]
  },
  {
   "cell_type": "code",
   "execution_count": 2,
   "metadata": {},
   "outputs": [],
   "source": [
    "exclude = [\n",
    "    \"arceatom\",\"ballspencer\",\"bhargavaaman\",\"carnaffanadam\",\"castillejosyviel\",\n",
    "    \"chengbenjamin\",\"chenjacky\",\"chiamkatarina\",\"chudavid\",\"cyphuskieran\",\n",
    "]\n",
    "\n",
    "\n",
    "if False:\n",
    "\n",
    "    student_names = pd.value_counts([x.split('_')[0] for x in os.listdir('./submissions/')]).keys()\n",
    "    \n",
    "    for student in student_names:\n",
    "        if student in exclude:\n",
    "            continue\n",
    "\n",
    "        if not os.path.isdir('./student_submissions/{}'.format(student)):\n",
    "            os.makedirs('./student_submissions/{}'.format(student))\n",
    "\n",
    "        shutil.copyfile(\n",
    "            './ECE324_A4P2_rubric.xlsx', \n",
    "            './student_submissions/{}/ECE324_A4P2_rubric.xlsx'.format(student)\n",
    "        )\n",
    "\n",
    "        student_files = [x for x in os.listdir('./submissions/') if x.startswith(student)]\n",
    "\n",
    "        for student_file in student_files:\n",
    "            shutil.copyfile('./submissions/{}'.format(student_file), './student_submissions/{}/{}'.format(\n",
    "                student,\n",
    "                student_file\n",
    "            ))\n"
   ]
  },
  {
   "cell_type": "markdown",
   "metadata": {},
   "source": [
    "### Construct data class"
   ]
  },
  {
   "cell_type": "markdown",
   "metadata": {},
   "source": [
    "## Construct Test dataset"
   ]
  },
  {
   "cell_type": "code",
   "execution_count": 3,
   "metadata": {},
   "outputs": [],
   "source": [
    "transform = transforms.Compose(\n",
    "    [transforms.ToTensor()]\n",
    ")\n",
    "\n",
    "train_dataset = torchvision.datasets.ImageFolder('../ece324_assignment_4_1/training_v2', transform=transform)\n",
    "train_data = torch.utils.data.DataLoader(train_dataset)\n",
    "\n",
    "training_stds = []\n",
    "training_means = []\n",
    "\n",
    "for image, label in train_data:\n",
    "    training_means.append(image.mean(axis=(0, 2, 3)).numpy())\n",
    "    training_stds.append(image.std(axis=(0, 2, 3)).numpy())\n",
    "    \n",
    "training_means = np.array(training_means).mean(axis=0)\n",
    "training_stds = np.array(training_stds).mean(axis=0)"
   ]
  },
  {
   "cell_type": "code",
   "execution_count": 4,
   "metadata": {},
   "outputs": [],
   "source": [
    "transform = transforms.Compose(\n",
    "    [\n",
    "        transforms.ToTensor(), \n",
    "        transforms.Normalize(training_means, training_stds)\n",
    "    ]\n",
    ")\n",
    "\n",
    "\n",
    "test_dataset = torchvision.datasets.ImageFolder(\n",
    "    '../ece324_assignment_4_1/data/test/',\n",
    "    transform=transform\n",
    ")\n",
    "test_data = torch.utils.data.DataLoader(test_dataset, batch_size=10000)"
   ]
  },
  {
   "cell_type": "code",
   "execution_count": 5,
   "metadata": {},
   "outputs": [
    {
     "name": "stdout",
     "output_type": "stream",
     "text": [
      "Student model sizes: \n",
      " big      51\n",
      "small    50\n",
      "dtype: int64\n",
      "\n",
      "\n",
      "Number of models per strudent: \n",
      " 2    50\n",
      "1     1\n",
      "dtype: int64\n"
     ]
    }
   ],
   "source": [
    "@dataclass\n",
    "class StudentModel:\n",
    "    model_name: str\n",
    "    student_name: str\n",
    "    model_size: str\n",
    "    model_perf: float\n",
    "        \n",
    "    \n",
    "student_models = []\n",
    "model_files = os.listdir('./student_models/')\n",
    "\n",
    "for model_file in model_files:\n",
    "    student_name = re.split('_|\\.', model_file)[0]\n",
    "    model_size = re.split('_|\\.', model_file)[-2].lower()\n",
    "    \n",
    "    student_models.append(\n",
    "        StudentModel(\n",
    "            model_file,\n",
    "            student_name,\n",
    "            'small' if 'small' in model_size else 'big',\n",
    "            -1)\n",
    "    )\n",
    "# Sort models by student name\n",
    "student_models = sorted(\n",
    "    student_models, key=lambda x: x.student_name\n",
    ")\n",
    "    \n",
    "print(\n",
    "    \"Student model sizes: \\n\",\n",
    "    pd.value_counts([x.model_size for x in student_models])\n",
    ")\n",
    "print('\\n')\n",
    "print(\n",
    "    \"Number of models per strudent: \\n\",\n",
    "    pd.value_counts(pd.value_counts([x.student_name for x in student_models]).values)\n",
    ")"
   ]
  },
  {
   "cell_type": "code",
   "execution_count": 6,
   "metadata": {},
   "outputs": [
    {
     "name": "stdout",
     "output_type": "stream",
     "text": [
      "Student model sizes: \n",
      " small    52\n",
      "big      51\n",
      "dtype: int64\n",
      "\n",
      "\n",
      "Number of models per strudent: \n",
      " 2    51\n",
      "1     1\n",
      "dtype: int64\n"
     ]
    }
   ],
   "source": [
    "student_models2 = []\n",
    "model_files2 = os.listdir('./submissions/')\n",
    "model_files2 = [x for x  in model_files2 if x.endswith('.pt')]\n",
    "\n",
    "for model_file in model_files2:\n",
    "    student_name = re.split('_|\\.', model_file)[0]\n",
    "    model_size = re.split('_|\\.', model_file)[-2].lower()\n",
    "    \n",
    "    student_models2.append(\n",
    "        StudentModel(\n",
    "            model_file,\n",
    "            student_name,\n",
    "            'small' if 'small' in model_size else 'big',\n",
    "            -1)\n",
    "    )\n",
    "\n",
    "student_models2 = sorted(\n",
    "    student_models2, key=lambda x: x.student_name\n",
    ")    \n",
    "    \n",
    "print(\n",
    "    \"Student model sizes: \\n\",\n",
    "    pd.value_counts([x.model_size for x in student_models2])\n",
    ")\n",
    "print('\\n')\n",
    "print(\n",
    "    \"Number of models per strudent: \\n\",\n",
    "    pd.value_counts(pd.value_counts([x.student_name for x in student_models2]).values)\n",
    ")"
   ]
  },
  {
   "cell_type": "code",
   "execution_count": 7,
   "metadata": {},
   "outputs": [
    {
     "name": "stdout",
     "output_type": "stream",
     "text": [
      "StudentModel(model_name='jianggeoffrey_206684_10241007_fullsmallestbestmodel.pt2', student_name='jianggeoffrey', model_size='small', model_perf=-1)\n",
      "\n",
      "\n",
      "StudentModel(model_name='jianggeoffrey_206684_10241005_fullbestmodel.pt2', student_name='jianggeoffrey', model_size='big', model_perf=-1)\n",
      "\n",
      "\n",
      "StudentModel(model_name='kadakiaarsh_212358_10190839_fullbestmodel.pt2', student_name='kadakiaarsh', model_size='big', model_perf=-1)\n",
      "\n",
      "\n",
      "StudentModel(model_name='kadakiaarsh_212358_10190840_fullsmallestbestmodel.pt2', student_name='kadakiaarsh', model_size='small', model_perf=-1)\n",
      "\n",
      "\n",
      "StudentModel(model_name='sahakesmat_181890_10235448_fullsmallestbestmodel.pt2', student_name='sahakesmat', model_size='small', model_perf=-1)\n",
      "\n",
      "\n",
      "StudentModel(model_name='sahakesmat_181890_10235447_fullbestmodel.pt2', student_name='sahakesmat', model_size='big', model_perf=-1)\n",
      "\n",
      "\n"
     ]
    }
   ],
   "source": [
    "# Submitted to the follow up submission but not the original\n",
    "for model in student_models:\n",
    "    if model.student_name not in [x.student_name for x in student_models2]:\n",
    "        print(model)\n",
    "        print('\\n')"
   ]
  },
  {
   "cell_type": "code",
   "execution_count": 8,
   "metadata": {},
   "outputs": [
    {
     "name": "stdout",
     "output_type": "stream",
     "text": [
      "StudentModel(model_name='malmirianmobin_LATE_203626_9820870_MyBest-1.pt', student_name='malmirianmobin', model_size='big', model_perf=-1)\n",
      "\n",
      "\n",
      "StudentModel(model_name='malmirianmobin_LATE_203626_9820871_MyBestSmall-1.pt', student_name='malmirianmobin', model_size='small', model_perf=-1)\n",
      "\n",
      "\n",
      "StudentModel(model_name='panwarshashwat_LATE_30849_9822129_MyBest.pt', student_name='panwarshashwat', model_size='big', model_perf=-1)\n",
      "\n",
      "\n",
      "StudentModel(model_name='panwarshashwat_LATE_30849_9822131_MyBestSmall.pt', student_name='panwarshashwat', model_size='small', model_perf=-1)\n",
      "\n",
      "\n",
      "StudentModel(model_name='sorbopeter_LATE_27311_9821418_MyBest.pt', student_name='sorbopeter', model_size='big', model_perf=-1)\n",
      "\n",
      "\n",
      "StudentModel(model_name='sorbopeter_LATE_27311_9821419_MyBestSmall.pt', student_name='sorbopeter', model_size='small', model_perf=-1)\n",
      "\n",
      "\n",
      "StudentModel(model_name='zhuangkathy_LATE_204758_9820518_MyBestSmall-2.pt', student_name='zhuangkathy', model_size='small', model_perf=-1)\n",
      "\n",
      "\n",
      "StudentModel(model_name='zhuangkathy_LATE_204758_9820519_MyBest-2.pt', student_name='zhuangkathy', model_size='big', model_perf=-1)\n",
      "\n",
      "\n"
     ]
    }
   ],
   "source": [
    "# Submitted to the original submission but not the follow up\n",
    "for model in student_models2:\n",
    "    if model.student_name not in [x.student_name for x in student_models]:\n",
    "        print(model)\n",
    "        print('\\n')"
   ]
  },
  {
   "cell_type": "code",
   "execution_count": null,
   "metadata": {},
   "outputs": [],
   "source": []
  }
 ],
 "metadata": {
  "kernelspec": {
   "display_name": "Python (pytorch_base)",
   "language": "python",
   "name": "pytorch_base"
  },
  "language_info": {
   "codemirror_mode": {
    "name": "ipython",
    "version": 3
   },
   "file_extension": ".py",
   "mimetype": "text/x-python",
   "name": "python",
   "nbconvert_exporter": "python",
   "pygments_lexer": "ipython3",
   "version": "3.7.7"
  }
 },
 "nbformat": 4,
 "nbformat_minor": 4
}
